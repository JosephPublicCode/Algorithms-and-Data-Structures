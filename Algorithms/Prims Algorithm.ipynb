{
 "cells": [
  {
   "cell_type": "markdown",
   "metadata": {},
   "source": [
    "Prim's Algorithm."
   ]
  },
  {
   "cell_type": "markdown",
   "metadata": {},
   "source": [
    "This is used to find the minimum spanning tree for a weighted undirected graph. "
   ]
  },
  {
   "cell_type": "markdown",
   "metadata": {},
   "source": [
    "This is a greedy algorithm just like dijkstra's algorithm. "
   ]
  },
  {
   "cell_type": "markdown",
   "metadata": {},
   "source": [
    "Time complexeity: Prim's Algorithm has O( E * log E) with the use of a binary heap. "
   ]
  },
  {
   "cell_type": "markdown",
   "metadata": {},
   "source": [
    "Space Complexeity: O(V^2) additional space is required."
   ]
  },
  {
   "cell_type": "markdown",
   "metadata": {},
   "source": [
    "In prim's, we do not form a cycle therefore for n nodes there will be n - 1 edges. \n",
    "\n",
    "Also in prim's we want to find the smallest distance. "
   ]
  },
  {
   "cell_type": "markdown",
   "metadata": {},
   "source": [
    "Prims requires a hashset and min heap. \n",
    "\n",
    "The hashset to prevent cycles and multiple visits. \n",
    "\n",
    "The min heap to determine the closest node connect distance. "
   ]
  },
  {
   "cell_type": "markdown",
   "metadata": {},
   "source": [
    "For this method, nodes will be stored in an adjacency list."
   ]
  },
  {
   "cell_type": "markdown",
   "metadata": {},
   "source": [
    "Method: \n",
    "1. start at source, append the source to the min heap and visit. \n",
    "2. then add all neighbors to the min heap. \n",
    "3. pop the minimum weight edge and repeat. \n",
    "recording a result throughout the process. "
   ]
  },
  {
   "cell_type": "code",
   "execution_count": 4,
   "metadata": {},
   "outputs": [],
   "source": [
    "import heapq "
   ]
  },
  {
   "cell_type": "code",
   "execution_count": 5,
   "metadata": {},
   "outputs": [],
   "source": [
    "def prims_algorithm(self, points: list[list[int]]) -> int: \n",
    "    n = len(points)\n",
    "\n",
    "    adj = { i:[] for i in range(n)}\n",
    "\n",
    "    for src, dst, weight in points: \n",
    "        adj[src].append([weight, dst])\n",
    "        adj[dst].append([weight, src])\n",
    "\n",
    "    res = 0 \n",
    "    visit = set() \n",
    "    min_heap = [[0,0]]\n",
    "    while len(visit) < n: \n",
    "        weight, node = heapq.heappop(min_heap)\n",
    "        if node in visit: \n",
    "            continue\n",
    "        res += weight\n",
    "        visit.add(node)\n",
    "        for cost, neighbor in adj[neighbor]: \n",
    "            if neighbor not in visit: \n",
    "                heapq.heappush(min_heap, [cost, neighbor]) \n",
    "    return res\n",
    "                \n"
   ]
  }
 ],
 "metadata": {
  "kernelspec": {
   "display_name": "Python 3",
   "language": "python",
   "name": "python3"
  },
  "language_info": {
   "codemirror_mode": {
    "name": "ipython",
    "version": 3
   },
   "file_extension": ".py",
   "mimetype": "text/x-python",
   "name": "python",
   "nbconvert_exporter": "python",
   "pygments_lexer": "ipython3",
   "version": "3.12.3"
  }
 },
 "nbformat": 4,
 "nbformat_minor": 2
}
