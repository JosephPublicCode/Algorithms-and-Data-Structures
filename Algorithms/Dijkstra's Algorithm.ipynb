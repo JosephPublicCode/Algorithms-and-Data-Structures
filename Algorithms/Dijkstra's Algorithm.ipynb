{
 "cells": [
  {
   "cell_type": "markdown",
   "metadata": {},
   "source": [
    "Dijkstra's Algorithm"
   ]
  },
  {
   "cell_type": "markdown",
   "metadata": {},
   "source": [
    "Outline of the problem: \n",
    "\n",
    "given a weighted, directed graph and a starting vertex. return the shortest distance from the source node to all other nodes in the graph. "
   ]
  },
  {
   "cell_type": "markdown",
   "metadata": {},
   "source": [
    "inputs: \n",
    "1. n - the number of vertices\n",
    "2. edges - a list of tuples in the form (u, v, w), u is the source, v is the destination and w is the weight of the edge. \n",
    "3. src - the source node. "
   ]
  },
  {
   "cell_type": "markdown",
   "metadata": {},
   "source": [
    "exceptions: if a vertex is unreachable the value -1 should be returned. "
   ]
  },
  {
   "attachments": {
    "image.png": {
     "image/png": "[encoded data removed]"
    }
   },
   "cell_type": "markdown",
   "metadata": {},
   "source": [
    "![image.png](attachment:image.png)"
   ]
  },
  {
   "cell_type": "markdown",
   "metadata": {},
   "source": [
    "Method: \n",
    "\n",
    "1. convert the tuples to an adjacency list (O(n) time complexeity)\n",
    "    - for all nodes add them with empty arrays to the adjacency list\n",
    "    - iterate through the edge lists and add the nieghbors and their weights\n",
    "2. initialize a min heap appending the source to the min heap\n",
    "3. initialize a while loop dependent on there being elements in the min heap. \n",
    "    - pop from heap \n",
    "    - if shortest is already found then continue\n",
    "    - assign the current distance as the shortest value for that node\n",
    "    - bfs for all neighors that are not in the shortest\n",
    "    - distance for neighors = previous node distance + current weight\n",
    "    - heap push these values \n",
    "4. check all nodes, if a node is not in shortest then give it a value of -1. "
   ]
  },
  {
   "cell_type": "markdown",
   "metadata": {},
   "source": [
    "Dijkstra's Algorithm follows the principal of optimality. \n",
    "\n",
    "The principal of optimality asserts that the optimal solution to a complex problem can be broken down into simpler sub-problems. \n",
    "Solving each sub problem will all us to solve the bigger problem. \n",
    "\n",
    "The substructure must be designed such that the complex structure can be built from the substructures."
   ]
  },
  {
   "cell_type": "markdown",
   "metadata": {},
   "source": [
    "Consider: \n",
    "\n",
    "A - > B -> C -> D\n",
    "\n",
    "In order to get the path from A -> D we first solve the smaller sub problems of: \n",
    "- A -> B \n",
    "- B -> C \n",
    "- C -> D \n",
    "\n",
    "Thus A -> D is broken down into the smaller problems and then solved by combining the smaller problems at the end "
   ]
  },
  {
   "cell_type": "code",
   "execution_count": 2,
   "metadata": {},
   "outputs": [],
   "source": [
    "import heapq"
   ]
  },
  {
   "cell_type": "code",
   "execution_count": 3,
   "metadata": {},
   "outputs": [],
   "source": [
    "def dijkstras_algorithm(n: int, edges: list[list[int]], src: int) -> dict[int, int]: \n",
    "\n",
    "    # convert to adjacency list\n",
    "    adj = {}\n",
    "    for i in range(n): \n",
    "        adj[i] = []\n",
    "\n",
    "    for str, dst, weight in edges: \n",
    "        adj[str].append([dst,weight])\n",
    "    \n",
    "    shortest = {} \n",
    "    min_heap = [[0,src]]\n",
    "    while min_heap: \n",
    "        dist, node = heapq.heappop(min_heap)\n",
    "        if node in shortest: \n",
    "            continue\n",
    "        shortest[node] = dist\n",
    "\n",
    "        for neighbor, dist2 in adj[node]: \n",
    "            if neighbor not in shortest: \n",
    "                heapq.heappush(min_heap, [dist + dist2,neighbor])\n",
    "\n",
    "    for i in range(n):\n",
    "        if i not in shortest: \n",
    "            shortest[i] = -1 \n",
    "\n",
    "        \n",
    "    return shortest"
   ]
  },
  {
   "cell_type": "markdown",
   "metadata": {},
   "source": [
    "input example: "
   ]
  },
  {
   "cell_type": "code",
   "execution_count": 4,
   "metadata": {},
   "outputs": [],
   "source": [
    "n = 5\n",
    "src = 0\n",
    "edges = [[0,1,10],[0,2,3],[1,3,2],[2,1,4],[2,3,8],[2,4,2],[3,4,5]]\n",
    "expected_output = {0: 0, 2: 3, 4: 5, 1: 7, 3: 9}"
   ]
  },
  {
   "cell_type": "code",
   "execution_count": 7,
   "metadata": {},
   "outputs": [
    {
     "data": {
      "text/plain": [
       "{0: 0, 2: 3, 4: 5, 1: 7, 3: 9}"
      ]
     },
     "execution_count": 7,
     "metadata": {},
     "output_type": "execute_result"
    }
   ],
   "source": [
    "test = dijkstras_algorithm(n,edges,src)\n",
    "test"
   ]
  },
  {
   "cell_type": "markdown",
   "metadata": {},
   "source": [
    "Time Complexeity: \n",
    "O((|E| + |V|) log |V|)\n",
    "- (|E| + |V|) to traverse all vertices and edges. \n",
    "- log |V| for the inner loop push operation. \n",
    "\n",
    "Space Complexeity: \n",
    "O(|V|) not including the adjacency list as we as storing each vertex as a node in a binary heap.\n"
   ]
  },
  {
   "cell_type": "markdown",
   "metadata": {},
   "source": [
    "Limitations of Dijkstra's Algorithm: \n",
    "- only returns the distance not the path that is taken to obtain the distance -> prim's Algorithm for this. \n",
    "- does not work with negative graph weights -> Bellman-Ford Algorithm for this. "
   ]
  },
  {
   "cell_type": "markdown",
   "metadata": {},
   "source": [
    "Why Dijkstra's Algorithm does not work for negative values. \n",
    "\n",
    "As Dijkstra's is a greedy algorithm, once a node is marked as visited it cannot be reconsidered. This is only an issue in the case of negative weights. "
   ]
  }
 ],
 "metadata": {
  "kernelspec": {
   "display_name": "Python 3",
   "language": "python",
   "name": "python3"
  },
  "language_info": {
   "codemirror_mode": {
    "name": "ipython",
    "version": 3
   },
   "file_extension": ".py",
   "mimetype": "text/x-python",
   "name": "python",
   "nbconvert_exporter": "python",
   "pygments_lexer": "ipython3",
   "version": "3.12.3"
  }
 },
 "nbformat": 4,
 "nbformat_minor": 2
}
