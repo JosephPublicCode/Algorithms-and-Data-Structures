{
 "cells": [
  {
   "cell_type": "markdown",
   "metadata": {},
   "source": [
    "Sliding Window "
   ]
  },
  {
   "cell_type": "markdown",
   "metadata": {},
   "source": [
    "2 main techniques: \n",
    "- variable length\n",
    "- fixed length\n",
    "\n",
    "arrays or strings: if substrings or subarrays then likely sliding window"
   ]
  },
  {
   "cell_type": "markdown",
   "metadata": {},
   "source": [
    "longest substring without repeating characters\n",
    "\n",
    "this has to be: \n",
    "contiguous"
   ]
  },
  {
   "cell_type": "markdown",
   "metadata": {},
   "source": [
    "The window is anything between the left and right pointers"
   ]
  },
  {
   "cell_type": "markdown",
   "metadata": {},
   "source": [
    "O(n) time complexeity and O(n) space complexeity"
   ]
  },
  {
   "cell_type": "markdown",
   "metadata": {},
   "source": [
    "set can be used to determine if something is in the non repeating set\n",
    "\n",
    "keep track of the longest length of the substring so far"
   ]
  },
  {
   "cell_type": "markdown",
   "metadata": {},
   "source": [
    "The length of the window is: R - L + 1 "
   ]
  },
  {
   "cell_type": "code",
   "execution_count": 2,
   "metadata": {},
   "outputs": [],
   "source": [
    "class Solution: \n",
    "    def lengthOfLongestSubstring(self, s:str) -> int: \n",
    "        l = 0 \n",
    "        longest = 0 \n",
    "        chars = set()\n",
    "        n = len(s)\n",
    "\n",
    "        for r in range(n): \n",
    "            while s[r] in chars: \n",
    "                chars.remove(s[l])\n",
    "                l += 1\n",
    "            w = (r-l) + 1 \n",
    "            longest = max(longest,w)\n",
    "            chars.add(s[r])\n",
    "        return longest "
   ]
  },
  {
   "cell_type": "markdown",
   "metadata": {},
   "source": [
    "Fixed Window"
   ]
  },
  {
   "cell_type": "markdown",
   "metadata": {},
   "source": [
    "Find max average. \n",
    "\n",
    "This involves sliding over the window of size 4 in this case: \n",
    "\n",
    "max-avg = to store the max\n",
    "current sum = to store the current average\n",
    "\n",
    "first we have to build up the window\n",
    "\n",
    "when sliding the window we add what is on the right and minus what is on the left"
   ]
  },
  {
   "cell_type": "markdown",
   "metadata": {},
   "source": [
    "as you slide: \n",
    "\n",
    "-= nums[i-k]\n",
    "+= nums[i]"
   ]
  },
  {
   "cell_type": "code",
   "execution_count": 3,
   "metadata": {},
   "outputs": [],
   "source": [
    "class Solution: \n",
    "    def findMaxAverage(self,nums:list[int],k:int) -> float: \n",
    "        n = len(nums)\n",
    "        cur = 0 \n",
    "\n",
    "        for i in range(k): \n",
    "            cur += nums[i]\n",
    "\n",
    "        maxAvg = cur/k\n",
    "\n",
    "        for i in range(k,n): \n",
    "            cur += nums[i]\n",
    "            cur -= nums[i-k]\n",
    "\n",
    "            avg = cur/k\n",
    "            maxAvg = max(avg,maxAvg)\n",
    "        return maxAvg"
   ]
  },
  {
   "cell_type": "markdown",
   "metadata": {},
   "source": [
    "further algorithms: \n",
    "- more sliding window problems"
   ]
  }
 ],
 "metadata": {
  "kernelspec": {
   "display_name": "Python 3",
   "language": "python",
   "name": "python3"
  },
  "language_info": {
   "codemirror_mode": {
    "name": "ipython",
    "version": 3
   },
   "file_extension": ".py",
   "mimetype": "text/x-python",
   "name": "python",
   "nbconvert_exporter": "python",
   "pygments_lexer": "ipython3",
   "version": "3.12.3"
  }
 },
 "nbformat": 4,
 "nbformat_minor": 2
}
