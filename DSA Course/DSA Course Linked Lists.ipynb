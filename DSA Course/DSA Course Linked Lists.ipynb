{
 "cells": [
  {
   "cell_type": "markdown",
   "metadata": {},
   "source": [
    "DSA Course - Linked Lists"
   ]
  },
  {
   "cell_type": "markdown",
   "metadata": {},
   "source": [
    "This is a list with single connections between the nodes. \n",
    "\n",
    "Each of the different nodes have different memory addresses unlike a regular array. \n",
    "\n",
    "These memory accesses point to each other. \n"
   ]
  },
  {
   "cell_type": "markdown",
   "metadata": {},
   "source": [
    "The head is the front of the linked list. \n",
    "\n",
    "It is an alterative data storage method to an array. "
   ]
  },
  {
   "cell_type": "markdown",
   "metadata": {},
   "source": [
    "head -> A -> B -> C -> D -> None"
   ]
  },
  {
   "cell_type": "code",
   "execution_count": 17,
   "metadata": {},
   "outputs": [],
   "source": [
    "class SingleLinkedList:\n",
    "\n",
    "    def __init__(self,val,next=None):\n",
    "        self.val = val \n",
    "        self.next = next\n",
    "\n",
    "    def __str__(self): \n",
    "        return str(self.val)"
   ]
  },
  {
   "cell_type": "markdown",
   "metadata": {},
   "source": [
    "Adding a new node\n",
    "\n",
    "Linked lists do not have positions in the traditional sense. "
   ]
  },
  {
   "cell_type": "code",
   "execution_count": 18,
   "metadata": {},
   "outputs": [],
   "source": [
    "Head = SingleLinkedList(1)\n",
    "A = SingleLinkedList(2)\n",
    "B = SingleLinkedList(3)\n",
    "C = SingleLinkedList(4)\n"
   ]
  },
  {
   "cell_type": "code",
   "execution_count": 19,
   "metadata": {},
   "outputs": [],
   "source": [
    "Head.next = A\n",
    "A.next = B \n",
    "B.next = C \n"
   ]
  },
  {
   "cell_type": "code",
   "execution_count": 20,
   "metadata": {},
   "outputs": [],
   "source": [
    "def traverseRecursively(node): \n",
    "    if not node: \n",
    "        return\n",
    "    print(node.val)\n",
    "    traverseRecursively(node.next)"
   ]
  },
  {
   "cell_type": "code",
   "execution_count": 21,
   "metadata": {},
   "outputs": [
    {
     "name": "stdout",
     "output_type": "stream",
     "text": [
      "1\n",
      "2\n",
      "3\n",
      "4\n"
     ]
    }
   ],
   "source": [
    "traverseRecursively(Head)"
   ]
  },
  {
   "cell_type": "code",
   "execution_count": 22,
   "metadata": {},
   "outputs": [
    {
     "name": "stdout",
     "output_type": "stream",
     "text": [
      "1\n",
      "2\n",
      "3\n",
      "4\n"
     ]
    }
   ],
   "source": [
    "curr = Head\n",
    "while curr: \n",
    "    print(curr)\n",
    "    curr = curr.next"
   ]
  },
  {
   "cell_type": "code",
   "execution_count": 23,
   "metadata": {},
   "outputs": [
    {
     "name": "stdout",
     "output_type": "stream",
     "text": [
      "1\n",
      "1->2\n",
      "1->2->3\n",
      "1->2->3->4\n"
     ]
    }
   ],
   "source": [
    "# Display - O(n)\n",
    "def display(head:SingleLinkedList) -> str: \n",
    "    curr = head\n",
    "    elements =[]\n",
    "    while curr: \n",
    "        elements.append(str(curr.val))\n",
    "        curr = curr.next\n",
    "        print('->'.join(elements))\n",
    "\n",
    "display(Head)"
   ]
  },
  {
   "cell_type": "code",
   "execution_count": 24,
   "metadata": {},
   "outputs": [
    {
     "data": {
      "text/plain": [
       "False"
      ]
     },
     "execution_count": 24,
     "metadata": {},
     "output_type": "execute_result"
    }
   ],
   "source": [
    "# Search - O(n)\n",
    "def search(head, val): \n",
    "    curr = head\n",
    "    while curr: \n",
    "        if val == curr.val: \n",
    "            return True\n",
    "        curr = curr.next\n",
    "    return False\n",
    "\n",
    "search(Head,7)"
   ]
  },
  {
   "cell_type": "markdown",
   "metadata": {},
   "source": [
    "Insert, append, lookup are all O(N)\n",
    "\n",
    "Removing from the beginning is O(1) and inserting at the beginning is O(1)"
   ]
  },
  {
   "cell_type": "markdown",
   "metadata": {},
   "source": [
    "Doubly Linked Lists"
   ]
  },
  {
   "cell_type": "markdown",
   "metadata": {},
   "source": [
    "Doubly Linked Lists are typically more useful\n"
   ]
  },
  {
   "cell_type": "markdown",
   "metadata": {},
   "source": [
    "none <-> A <-> B <-> C <-> D <-> none"
   ]
  },
  {
   "cell_type": "code",
   "execution_count": 25,
   "metadata": {},
   "outputs": [],
   "source": [
    "class DoubleLinkedList:\n",
    "\n",
    "    def __init__(self, val, next=None, prev=None): \n",
    "        self.val = val\n",
    "        self.next = next\n",
    "        self.prev = prev\n",
    "    \n",
    "    def __str__(self): \n",
    "        return str(self.val)"
   ]
  },
  {
   "cell_type": "code",
   "execution_count": 26,
   "metadata": {},
   "outputs": [
    {
     "name": "stdout",
     "output_type": "stream",
     "text": [
      "1\n"
     ]
    }
   ],
   "source": [
    "head = tail = DoubleLinkedList(1)\n",
    "print(tail)"
   ]
  },
  {
   "cell_type": "code",
   "execution_count": 27,
   "metadata": {},
   "outputs": [
    {
     "name": "stdout",
     "output_type": "stream",
     "text": [
      "1\n"
     ]
    }
   ],
   "source": [
    "def display(head:DoubleLinkedList) -> str: \n",
    "    curr = head\n",
    "    elements =[]\n",
    "    while curr: \n",
    "        elements.append(str(curr.val))\n",
    "        curr = curr.next\n",
    "        print('<->'.join(elements))\n",
    "\n",
    "display(head)"
   ]
  },
  {
   "cell_type": "code",
   "execution_count": 28,
   "metadata": {},
   "outputs": [],
   "source": [
    "def insertAtBeginning(head, tail, val): \n",
    "    new_node = DoubleLinkedList(val, next=head)\n",
    "    head.prev = new_node\n",
    "    return new_node, tail"
   ]
  },
  {
   "cell_type": "code",
   "execution_count": 29,
   "metadata": {},
   "outputs": [
    {
     "name": "stdout",
     "output_type": "stream",
     "text": [
      "3\n",
      "3<->1\n"
     ]
    }
   ],
   "source": [
    "head,tail = insertAtBeginning(head, tail, 3)\n",
    "display(head)"
   ]
  },
  {
   "cell_type": "code",
   "execution_count": 30,
   "metadata": {},
   "outputs": [
    {
     "name": "stdout",
     "output_type": "stream",
     "text": [
      "3\n",
      "3<->1\n",
      "3<->1<->7\n"
     ]
    }
   ],
   "source": [
    "def insertAtEnd(head, tail, val): \n",
    "    new_node = DoubleLinkedList(val, prev=tail)\n",
    "    tail.next = new_node\n",
    "    return head, new_node\n",
    "head,tail = insertAtEnd(head,tail,7)\n",
    "display(head)"
   ]
  },
  {
   "cell_type": "markdown",
   "metadata": {},
   "source": [
    "Function ideas: \n",
    "- reversing\n",
    "- adding lists\n",
    "- single to double\n",
    "- double to single\n"
   ]
  },
  {
   "cell_type": "code",
   "execution_count": 31,
   "metadata": {},
   "outputs": [],
   "source": [
    "def reverseIterative( head: list[SingleLinkedList]) -> list[SingleLinkedList]:\n",
    "        cur = head\n",
    "        prev = None\n",
    "        while cur: \n",
    "            tmp = cur.next \n",
    "            cur.next = prev \n",
    "            prev = cur\n",
    "            cur = tmp\n",
    "        return prev\n"
   ]
  },
  {
   "cell_type": "code",
   "execution_count": 32,
   "metadata": {},
   "outputs": [],
   "source": [
    "def reverseRecursive(head: list[SingleLinkedList]) -> list[SingleLinkedList]:\n",
    "        if not head:\n",
    "            return None\n",
    "        newHead = head \n",
    "        if head.next:\n",
    "\n",
    "            newHead = reverseRecursive(head.next)\n",
    "            head.next.next = head\n",
    "        head.next = None\n",
    "        return newHead"
   ]
  }
 ],
 "metadata": {
  "kernelspec": {
   "display_name": "Python 3",
   "language": "python",
   "name": "python3"
  },
  "language_info": {
   "codemirror_mode": {
    "name": "ipython",
    "version": 3
   },
   "file_extension": ".py",
   "mimetype": "text/x-python",
   "name": "python",
   "nbconvert_exporter": "python",
   "pygments_lexer": "ipython3",
   "version": "3.12.3"
  }
 },
 "nbformat": 4,
 "nbformat_minor": 2
}
