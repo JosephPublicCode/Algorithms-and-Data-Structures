{
 "cells": [
  {
   "cell_type": "markdown",
   "metadata": {},
   "source": [
    "Recursive Backtracking"
   ]
  },
  {
   "cell_type": "markdown",
   "metadata": {},
   "source": [
    "Method: \n",
    "1. make a decision\n",
    "2. recursion\n",
    "3. reach a base case\n",
    "4. undo the decisions made"
   ]
  },
  {
   "cell_type": "markdown",
   "metadata": {},
   "source": [
    "This is usually used to do an exhaustive search or brute force"
   ]
  },
  {
   "cell_type": "markdown",
   "metadata": {},
   "source": [
    "Given an integer array of nums of unique elements return all of the possible subsets without duplicate sets."
   ]
  },
  {
   "cell_type": "markdown",
   "metadata": {},
   "source": [
    "generally forms a decision tree of branches\n",
    "\n",
    "In this case we consider binary decisions to include and not include each element in the original array nums\n",
    "\n",
    "This is basically a dfs \n",
    "\n",
    "boolean pick and do not pick numbers\n",
    "\n",
    "in this case the number of solutions is 2^3\n",
    "\n",
    "2 lists of solutions: \n",
    "Res - the final result of all recursive backtracking \n",
    "Sol - the current solution at the time\n",
    "\n",
    "The traversal in this case is similar to a preorder traversal"
   ]
  },
  {
   "cell_type": "code",
   "execution_count": 2,
   "metadata": {},
   "outputs": [],
   "source": [
    "class Solution: \n",
    "    def subsets(self, nums:list[int]) -> list[list[int]]: \n",
    "        n = len(nums)\n",
    "        res, sol = [], []\n",
    "\n",
    "        def backtrack(i): \n",
    "            if i == n: \n",
    "                res.append(sol[:]) # copy because you dont want a reference to sol you want a snapshot / copy at that time\n",
    "                return\n",
    "             \n",
    "            backtrack(i+1)\n",
    "\n",
    "            sol.append(nums[i])\n",
    "            backtrack(i+1)\n",
    "            sol.pop()\n",
    "\n",
    "            \n",
    "\n",
    "        backtrack(0)\n",
    "        return res"
   ]
  },
  {
   "cell_type": "markdown",
   "metadata": {},
   "source": [
    "The Time and Space Complexeity: \n",
    "- Time: O(2^n)\n",
    "- Space: O(n) roughly"
   ]
  },
  {
   "cell_type": "markdown",
   "metadata": {},
   "source": [
    "Other Algorithm Ideas: \n",
    "- "
   ]
  }
 ],
 "metadata": {
  "kernelspec": {
   "display_name": "Python 3",
   "language": "python",
   "name": "python3"
  },
  "language_info": {
   "codemirror_mode": {
    "name": "ipython",
    "version": 3
   },
   "file_extension": ".py",
   "mimetype": "text/x-python",
   "name": "python",
   "nbconvert_exporter": "python",
   "pygments_lexer": "ipython3",
   "version": "3.12.3"
  }
 },
 "nbformat": 4,
 "nbformat_minor": 2
}
