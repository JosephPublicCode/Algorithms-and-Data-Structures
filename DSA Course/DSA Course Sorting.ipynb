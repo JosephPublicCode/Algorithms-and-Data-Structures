{
 "cells": [
  {
   "cell_type": "markdown",
   "metadata": {},
   "source": [
    "Sorting Algorithms"
   ]
  },
  {
   "cell_type": "markdown",
   "metadata": {},
   "source": [
    "Bubble Sort"
   ]
  },
  {
   "cell_type": "markdown",
   "metadata": {},
   "source": [
    "The last positions will be correct first. \n",
    "\n",
    "The largest values bubble to the top. \n",
    "\n",
    "method: \n",
    "1. start at position 1 and compare to 0\n",
    "2. continue to increment through the whole list with single comparisons\n",
    "3. then repeat with the list of length n-1. \n",
    "4. repeat until all sorted. \n",
    "\n",
    "O(N^2) time complexeity\n",
    "\n",
    "O(1) space complexeity"
   ]
  },
  {
   "cell_type": "code",
   "execution_count": 1,
   "metadata": {},
   "outputs": [],
   "source": [
    "def bubble(arr): \n",
    "    n = len(arr)\n",
    "    flag = True\n",
    "    while flag: \n",
    "        flag = False\n",
    "        for i in range(1,n): \n",
    "            if arr[i-1] > arr[i]: \n",
    "                flag = True\n",
    "                arr[i-1],arr[i] = arr[i], arr[i-1]"
   ]
  },
  {
   "cell_type": "code",
   "execution_count": 3,
   "metadata": {},
   "outputs": [],
   "source": [
    "A = [-5,4,3,-10,2,1,4]\n",
    "bubble(A)"
   ]
  },
  {
   "cell_type": "code",
   "execution_count": 4,
   "metadata": {},
   "outputs": [
    {
     "data": {
      "text/plain": [
       "[-10, -5, 1, 2, 3, 4, 4]"
      ]
     },
     "execution_count": 4,
     "metadata": {},
     "output_type": "execute_result"
    }
   ],
   "source": [
    "A"
   ]
  },
  {
   "cell_type": "markdown",
   "metadata": {},
   "source": [
    "Insertion Sort"
   ]
  },
  {
   "cell_type": "markdown",
   "metadata": {},
   "source": [
    "method: \n",
    "1. have a sorted region\n",
    "2. swap within the sorted region\n",
    "3. move over to expand the region\n",
    "4. sort and repeat until all of the list has been sorted. \n",
    "\n",
    "O(N^2) Time Complexeity\n",
    "\n",
    "O(1) Space Complexeity"
   ]
  },
  {
   "cell_type": "code",
   "execution_count": 5,
   "metadata": {},
   "outputs": [],
   "source": [
    "def insertion(arr): \n",
    "    n = len(arr)\n",
    "    for i in range(n):\n",
    "        for j in range(i,0,-1): \n",
    "            if arr[j-1] > arr[j]: \n",
    "                arr[j-1], arr[j] = arr[j], arr[j-1]\n",
    "            else: \n",
    "                break"
   ]
  },
  {
   "cell_type": "code",
   "execution_count": 10,
   "metadata": {},
   "outputs": [
    {
     "data": {
      "text/plain": [
       "[-10, -5, 1, 2, 3, 4, 4]"
      ]
     },
     "execution_count": 10,
     "metadata": {},
     "output_type": "execute_result"
    }
   ],
   "source": [
    "A = [-5,4,3,-10,2,1,4]\n",
    "insertion(A)\n",
    "A"
   ]
  },
  {
   "cell_type": "markdown",
   "metadata": {},
   "source": [
    "Selection Sort"
   ]
  },
  {
   "cell_type": "markdown",
   "metadata": {},
   "source": [
    "Method: \n",
    "1. scan the array for the minimum value. \n",
    "2. swap the lowest position with then value\n",
    "3. increment the index\n",
    "4. repeat for the second smallest and repeat\n",
    "\n",
    "O(N^2) Time Complexeity\n",
    "\n",
    "O(1) Space Complexeity"
   ]
  },
  {
   "cell_type": "code",
   "execution_count": 11,
   "metadata": {},
   "outputs": [],
   "source": [
    "def selection(arr): \n",
    "    n = len(arr)\n",
    "\n",
    "    for i in range(n): \n",
    "        min_index = i\n",
    "        for j in range(i+1,n):\n",
    "            if arr[j] < arr[min_index]: \n",
    "                min_index = j\n",
    "        arr[i], arr[min_index] = arr[min_index], arr[i]"
   ]
  },
  {
   "cell_type": "code",
   "execution_count": 12,
   "metadata": {},
   "outputs": [
    {
     "data": {
      "text/plain": [
       "[-10, -5, 1, 2, 3, 4, 4]"
      ]
     },
     "execution_count": 12,
     "metadata": {},
     "output_type": "execute_result"
    }
   ],
   "source": [
    "A = [-5,4,3,-10,2,1,4]\n",
    "selection(A)\n",
    "A"
   ]
  },
  {
   "cell_type": "markdown",
   "metadata": {},
   "source": [
    "Merge Sort"
   ]
  },
  {
   "cell_type": "markdown",
   "metadata": {},
   "source": [
    "This is a divide and conquer algorithm. \n",
    "\n",
    "This is implemented recursively \n",
    "\n",
    "1. splits the arrays\n",
    "2. splits the arrays of the array\n",
    "3. repeats until all of the arrays are length 1\n",
    "4. then conquer by merging the arrays one level at a time in the same way as the divide shown previously\n",
    "\n",
    "\n",
    "O(nlogn) Time Complexeity\n",
    "\n",
    "O(n) or O(logn) Space Complexeity\n"
   ]
  },
  {
   "cell_type": "code",
   "execution_count": 21,
   "metadata": {},
   "outputs": [],
   "source": [
    "def mergeSort(arr): \n",
    "    n = len(arr)\n",
    "\n",
    "    # base case\n",
    "    if n == 1: \n",
    "        return arr\n",
    "    \n",
    "    m = len(arr) // 2 \n",
    "    L = arr[:m]\n",
    "    R = arr[m:]\n",
    "\n",
    "    L = mergeSort(L)\n",
    "    R = mergeSort(R)\n",
    "    l,r = 0,0\n",
    "    Llen = len(L)\n",
    "    Rlen = len(R)\n",
    "\n",
    "    sortedArr = [0]*n\n",
    "    i = 0 \n",
    "\n",
    "    while l < Llen and r < Rlen: \n",
    "        if L[l] < R[r]: \n",
    "            sortedArr[i] = L[l]\n",
    "            l += 1 \n",
    "        else: \n",
    "            sortedArr[i] = R[r]\n",
    "            r += 1 \n",
    "        i += 1 \n",
    "    \n",
    "    # if L is left over\n",
    "    while l < Llen: \n",
    "        sortedArr[i] = L[l]\n",
    "        l += 1\n",
    "        i += 1 \n",
    "    \n",
    "    # if R is left over\n",
    "    while r < Rlen: \n",
    "        sortedArr[i] = R[r]\n",
    "        r += 1\n",
    "        i += 1\n",
    "    \n",
    "    return sortedArr\n",
    "\n"
   ]
  },
  {
   "cell_type": "code",
   "execution_count": 23,
   "metadata": {},
   "outputs": [
    {
     "name": "stdout",
     "output_type": "stream",
     "text": [
      "[-10, -5, 1, 2, 3, 4, 4]\n"
     ]
    }
   ],
   "source": [
    "A = [-5,4,3,-10,2,1,4]\n",
    "print(mergeSort(A))\n"
   ]
  },
  {
   "cell_type": "markdown",
   "metadata": {},
   "source": [
    "Quick Sort"
   ]
  },
  {
   "cell_type": "markdown",
   "metadata": {},
   "source": [
    "Method: \n",
    "1. pick a pivot\n",
    "2. move elements based on greater or less than the pivot\n",
    "3. then repeat for the subarrays and continue recursively\n",
    "\n",
    "The problem with quick sort is the picking of a bad pivot\n",
    "\n",
    "Shuffling can be used to avoid this\n",
    "\n",
    "O(N logN) time complexeity - worst case is technically O(N^2)\n",
    "\n",
    "O(N) space complexeity - log n is also possible"
   ]
  },
  {
   "cell_type": "code",
   "execution_count": 24,
   "metadata": {},
   "outputs": [],
   "source": [
    "def quickSort(arr): \n",
    "    if len(arr) <= 1: \n",
    "        return arr\n",
    "    \n",
    "    p = arr[-1]\n",
    "     \n",
    "    L = [x for x in arr[:-1] if x <= p] \n",
    "    R = [x for x in arr[:-1] if x > p]\n",
    "\n",
    "    L = quickSort(L)\n",
    "    R = quickSort(R)\n",
    "\n",
    "    return L + [p] + R \n",
    "\n",
    "    \n"
   ]
  },
  {
   "cell_type": "code",
   "execution_count": 25,
   "metadata": {},
   "outputs": [
    {
     "data": {
      "text/plain": [
       "[-10, -5, 1, 2, 3, 4, 4]"
      ]
     },
     "execution_count": 25,
     "metadata": {},
     "output_type": "execute_result"
    }
   ],
   "source": [
    "A = [-5,4,3,-10,2,1,4]\n",
    "A = quickSort(A)\n",
    "A"
   ]
  },
  {
   "cell_type": "markdown",
   "metadata": {},
   "source": [
    "Counting Sort"
   ]
  },
  {
   "cell_type": "markdown",
   "metadata": {},
   "source": [
    "method: \n",
    "1. find the max value in the array\n",
    "2. counts array, positions from 0 to the max\n",
    "- represents how many we have of each value. \n",
    "3. count all values\n",
    "4. in place replacement of values in the list based on the counting list\n",
    "\n",
    "O(n+k) Time Complexeity\n",
    " - roughly O(n) if the k range is very small\n",
    " \n",
    "O(k) Space Complexeity\n",
    "\n",
    "can be written with negative numbers but is harder"
   ]
  },
  {
   "cell_type": "code",
   "execution_count": 31,
   "metadata": {},
   "outputs": [],
   "source": [
    "def countingSort(arr): \n",
    "    n = len(arr)\n",
    "    maxx = max(arr)\n",
    "    counts = [0]*(maxx + 1)\n",
    "\n",
    "    for x in arr: \n",
    "        counts[x] += 1 \n",
    "\n",
    "    i = 0 \n",
    "    for c in range(maxx + 1): \n",
    "        while counts[c] > 0: \n",
    "            arr[i] = c \n",
    "            i += 1\n",
    "            counts[c] -= 1 \n"
   ]
  },
  {
   "cell_type": "code",
   "execution_count": 34,
   "metadata": {},
   "outputs": [
    {
     "data": {
      "text/plain": [
       "[1, 2, 3, 4, 6, 7, 8]"
      ]
     },
     "execution_count": 34,
     "metadata": {},
     "output_type": "execute_result"
    }
   ],
   "source": [
    "\n",
    "B = [1,2,6,4,3,7,8]\n",
    "countingSort(B)\n",
    "B"
   ]
  },
  {
   "cell_type": "markdown",
   "metadata": {},
   "source": [
    "In practise we use the python method sorted, this uses Tim Sort that is O(n log n). \n",
    "\n",
    "Tim sort allows in place and not in place "
   ]
  },
  {
   "cell_type": "markdown",
   "metadata": {},
   "source": [
    "Sorting Tuples."
   ]
  },
  {
   "cell_type": "code",
   "execution_count": 36,
   "metadata": {},
   "outputs": [],
   "source": [
    "I = [(-5,3),(2,3),(-1,2)]\n",
    "\n",
    "sorted_I = sorted(I,key = lambda t: t[0])"
   ]
  },
  {
   "cell_type": "code",
   "execution_count": 37,
   "metadata": {},
   "outputs": [
    {
     "data": {
      "text/plain": [
       "[(-5, 3), (-1, 2), (2, 3)]"
      ]
     },
     "execution_count": 37,
     "metadata": {},
     "output_type": "execute_result"
    }
   ],
   "source": [
    "sorted_I"
   ]
  },
  {
   "cell_type": "markdown",
   "metadata": {},
   "source": [
    "More Algorithms: \n",
    "- shell sort\n",
    "- Tim sort\n",
    "- quick sort in place \n",
    "- merge sort in place"
   ]
  },
  {
   "cell_type": "markdown",
   "metadata": {},
   "source": []
  }
 ],
 "metadata": {
  "kernelspec": {
   "display_name": "Python 3",
   "language": "python",
   "name": "python3"
  },
  "language_info": {
   "codemirror_mode": {
    "name": "ipython",
    "version": 3
   },
   "file_extension": ".py",
   "mimetype": "text/x-python",
   "name": "python",
   "nbconvert_exporter": "python",
   "pygments_lexer": "ipython3",
   "version": "3.12.3"
  }
 },
 "nbformat": 4,
 "nbformat_minor": 2
}
