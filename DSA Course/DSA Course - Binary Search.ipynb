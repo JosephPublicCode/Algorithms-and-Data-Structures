{
 "cells": [
  {
   "cell_type": "markdown",
   "metadata": {},
   "source": [
    "Binary Search"
   ]
  },
  {
   "cell_type": "markdown",
   "metadata": {},
   "source": [
    "Two types: \n",
    "- traditional - search\n",
    "- over under technique"
   ]
  },
  {
   "cell_type": "markdown",
   "metadata": {},
   "source": [
    "traditional: \n",
    "This is used for your typical generic lookup"
   ]
  },
  {
   "cell_type": "markdown",
   "metadata": {},
   "source": [
    "2 pointer technique\n",
    "L = 0 \n",
    "R = N - 1 \n",
    "M = (L + R) // 2 \n",
    "\n"
   ]
  },
  {
   "cell_type": "markdown",
   "metadata": {},
   "source": [
    "binary search: O(1) memory, O(logn) space. "
   ]
  },
  {
   "cell_type": "markdown",
   "metadata": {},
   "source": [
    "divides the code space into a true and false region and moves to the true region accordingly"
   ]
  },
  {
   "cell_type": "markdown",
   "metadata": {},
   "source": [
    "L<=R is needed as the final value where they overlap has to be considered, otherwise you are not searching the whole array"
   ]
  },
  {
   "cell_type": "code",
   "execution_count": 10,
   "metadata": {},
   "outputs": [],
   "source": [
    "def binarySearch(arr,target):\n",
    "    n = len(arr)\n",
    "    l = 0 \n",
    "    r = n - 1 \n",
    "\n",
    "    while l <= r: \n",
    "        mid = r + (l-r)//2\n",
    "        if arr[mid] == target:\n",
    "            return mid\n",
    "        elif arr[mid]> target: \n",
    "            r = mid - 1 \n",
    "        else: \n",
    "            l = mid + 1 \n",
    "    return -1 \n"
   ]
  },
  {
   "cell_type": "markdown",
   "metadata": {},
   "source": [
    "Over Under \n",
    "\n",
    "Condition based binary search. "
   ]
  },
  {
   "cell_type": "markdown",
   "metadata": {},
   "source": [
    "The condition is used to determine what we are looking for the in array"
   ]
  },
  {
   "cell_type": "markdown",
   "metadata": {},
   "source": [
    "Typically looking for the first instance of a change in the value in the array"
   ]
  },
  {
   "cell_type": "markdown",
   "metadata": {},
   "source": [
    "T, T, T, T, F, F, F, find the first instance where T becomes F"
   ]
  },
  {
   "cell_type": "markdown",
   "metadata": {},
   "source": [
    "binary search: O(1) memory, O(logn) space. "
   ]
  },
  {
   "cell_type": "markdown",
   "metadata": {},
   "source": [
    "We return L or R in this function this is why L < R not equal to, this breaks the loop adn returns the positions"
   ]
  },
  {
   "cell_type": "code",
   "execution_count": 11,
   "metadata": {},
   "outputs": [
    {
     "data": {
      "text/plain": [
       "3"
      ]
     },
     "execution_count": 11,
     "metadata": {},
     "output_type": "execute_result"
    }
   ],
   "source": [
    "# true false search list or equivalent\n",
    "\n",
    "def binarySearchCondition(arr,condition): \n",
    "    n = len(arr)\n",
    "    l = 0 \n",
    "    r = n - 1 \n",
    "\n",
    "    while l < r: \n",
    "        mid = r + (l-r)//2\n",
    "        if arr[mid] == condition: \n",
    "            r = mid\n",
    "        else: \n",
    "            l = mid + 1 \n",
    "    return l \n",
    "B = [False, False, False,True,True]\n",
    "# condition is the new state of the values in the list, e.g. true in this case as the false changes to true at position 3 in the array\n",
    "binarySearchCondition(B,True)"
   ]
  },
  {
   "cell_type": "code",
   "execution_count": null,
   "metadata": {},
   "outputs": [],
   "source": []
  }
 ],
 "metadata": {
  "kernelspec": {
   "display_name": "Python 3",
   "language": "python",
   "name": "python3"
  },
  "language_info": {
   "codemirror_mode": {
    "name": "ipython",
    "version": 3
   },
   "file_extension": ".py",
   "mimetype": "text/x-python",
   "name": "python",
   "nbconvert_exporter": "python",
   "pygments_lexer": "ipython3",
   "version": "3.12.3"
  }
 },
 "nbformat": 4,
 "nbformat_minor": 2
}
