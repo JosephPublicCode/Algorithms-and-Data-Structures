{
 "cells": [
  {
   "cell_type": "markdown",
   "metadata": {},
   "source": [
    "Two Pointers"
   ]
  },
  {
   "cell_type": "markdown",
   "metadata": {},
   "source": [
    "method: typically a left and right pointer that get close to each other. \n",
    "\n",
    "could also be called a squeeze"
   ]
  },
  {
   "cell_type": "markdown",
   "metadata": {},
   "source": [
    "depending on a condition you slide the pointers close to each other until they reach each other"
   ]
  },
  {
   "cell_type": "markdown",
   "metadata": {},
   "source": [
    "Typically a comparison of the values at the two pointers is required"
   ]
  },
  {
   "cell_type": "code",
   "execution_count": 4,
   "metadata": {},
   "outputs": [],
   "source": [
    "class Solution: \n",
    "    def sortedSquares(self, nums: list[int]) -> list[int]: \n",
    "        l = 0 \n",
    "        r = len(nums) -1 \n",
    "\n",
    "        result = []\n",
    "        while l <= r: \n",
    "            if abs(nums[l]) > abs(nums[r]): \n",
    "                result.append(nums[l]**2)\n",
    "                l +=1 \n",
    "            else: \n",
    "                result.append(nums[r]**2)\n",
    "                r +=1\n",
    "        result.reverse()\n",
    "\n",
    "        return result\n",
    "    \n",
    "# O(n) Time \n",
    "# O(1) as the space is required for the result\n"
   ]
  },
  {
   "cell_type": "markdown",
   "metadata": {},
   "source": [
    "Problem ideas: \n",
    "- reverse in place\n",
    "- sorted squares in place"
   ]
  },
  {
   "cell_type": "markdown",
   "metadata": {},
   "source": []
  }
 ],
 "metadata": {
  "kernelspec": {
   "display_name": "Python 3",
   "language": "python",
   "name": "python3"
  },
  "language_info": {
   "codemirror_mode": {
    "name": "ipython",
    "version": 3
   },
   "file_extension": ".py",
   "mimetype": "text/x-python",
   "name": "python",
   "nbconvert_exporter": "python",
   "pygments_lexer": "ipython3",
   "version": "3.12.3"
  }
 },
 "nbformat": 4,
 "nbformat_minor": 2
}
